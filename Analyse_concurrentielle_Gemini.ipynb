{
  "cells": [
    {
      "cell_type": "markdown",
      "metadata": {
        "id": "view-in-github",
        "colab_type": "text"
      },
      "source": [
        "<a href=\"https://colab.research.google.com/github/Tamsir123/API-RESTfull-Spring-Java/blob/main/Analyse_concurrentielle_Gemini.ipynb\" target=\"_parent\"><img src=\"https://colab.research.google.com/assets/colab-badge.svg\" alt=\"Open In Colab\"/></a>"
      ]
    },
    {
      "cell_type": "markdown",
      "id": "4b0c3ff8",
      "metadata": {
        "id": "4b0c3ff8"
      },
      "source": [
        "# Analyse concurrentielle automatisée avec Gemini\n",
        "\n",
        "Ce notebook montre comment scraper des sites concurrents, calculer le coût d'analyse, et extraire les informations clés (tarifs, offres) grâce à un agent IA Gemini.\n",
        "\n",
        "**Pipeline :**\n",
        "1. Scraping éthique de sites concurrents (BeautifulSoup, Firecrawl, Jina AI)\n",
        "2. Calcul du coût d'analyse\n",
        "3. Extraction des informations stratégiques avec Gemini\n",
        "4. Visualisation des résultats"
      ]
    },
    {
      "cell_type": "markdown",
      "id": "6d5889f4",
      "metadata": {
        "id": "6d5889f4"
      },
      "source": [
        "## 1. Définir les sites concurrents à analyser"
      ]
    },
    {
      "cell_type": "code",
      "execution_count": 38,
      "id": "a026be0c",
      "metadata": {
        "id": "a026be0c"
      },
      "outputs": [],
      "source": [
        "competitor_sites = [\n",
        "    {\"name\": \"Articulate 360 by Adobe\", \"url\": \"https://www.articulate.com/360/pricing/freelancers\"},\n",
        "    {\"name\": \"7taps\", \"url\": \"https://www.7taps.com/pricing\"},\n",
        "    {\"name\": \"Mindsmith AI\", \"url\": \"https://www.mindsmith.ai/pricing\"},\n",
        "    {\"name\": \"Cards-microlearning\", \"url\": \"https://www.cards-microlearning.com/en/tarifs\"},\n",
        "]"
      ]
    },
    {
      "cell_type": "markdown",
      "id": "f5e6a287",
      "metadata": {
        "id": "f5e6a287"
      },
      "source": [
        "## 2. Scraping des sites concurrents\n",
        "Nous utilisons plusieurs méthodes pour obtenir le contenu des pages :\n",
        "- BeautifulSoup (scraping classique)\n",
        "- Firecrawl (API Mendable)\n",
        "- Jina AI (API Reader)"
      ]
    },
    {
      "cell_type": "code",
      "execution_count": 39,
      "id": "7db94c63",
      "metadata": {
        "id": "7db94c63"
      },
      "outputs": [],
      "source": [
        "# Installer les dépendances nécessaires\n",
        "!pip install requests beautifulsoup4 firecrawl-py tqdm prettytable --quiet\n",
        "import requests\n",
        "from bs4 import BeautifulSoup\n",
        "from tqdm import tqdm\n",
        "from prettytable import PrettyTable, ALL\n",
        "import firecrawl\n",
        "import getpass"
      ]
    },
    {
      "cell_type": "code",
      "execution_count": 40,
      "id": "7d57332c",
      "metadata": {
        "id": "7d57332c"
      },
      "outputs": [],
      "source": [
        "def beautiful_soup_scrape_url(url: str):\n",
        "    response = requests.get(url)\n",
        "    soup = BeautifulSoup(response.content, 'html.parser')\n",
        "    return str(soup)\n"
      ]
    },
    {
      "cell_type": "code",
      "execution_count": 41,
      "id": "5d101b00",
      "metadata": {
        "id": "5d101b00"
      },
      "outputs": [],
      "source": [
        "def scrape_jina_ai(url: str) -> str:\n",
        "    response = requests.get(\"https://r.jina.ai/\" + url)\n",
        "    return response.text"
      ]
    },
    {
      "cell_type": "code",
      "execution_count": 42,
      "id": "cfff5523",
      "metadata": {
        "colab": {
          "base_uri": "https://localhost:8080/"
        },
        "id": "cfff5523",
        "outputId": "5243f0e4-0f26-418e-aeeb-f17a497db309"
      },
      "outputs": [
        {
          "name": "stdout",
          "output_type": "stream",
          "text": [
            "Mendable API Key··········\n"
          ]
        }
      ],
      "source": [
        "import firecrawl\n",
        "from google.colab import userdata\n",
        "\n",
        "FIRECRAWL_API_KEY = getpass.getpass(\"Mendable API Key\")\n",
        "\n",
        "def scrape_firecrawl(url: str):\n",
        "    app = firecrawl.FirecrawlApp(api_key=FIRECRAWL_API_KEY)\n",
        "    scraped_data = app.scrape_url(url)[\"markdown\"]\n",
        "    return scraped_data"
      ]
    },
    {
      "cell_type": "markdown",
      "id": "d5922106",
      "metadata": {
        "id": "d5922106"
      },
      "source": [
        "## 3. Calcul du coût d'analyse (tokens)\n",
        "On estime le coût d'analyse pour chaque contenu récupéré."
      ]
    },
    {
      "cell_type": "code",
      "execution_count": 43,
      "id": "134668fd",
      "metadata": {
        "id": "134668fd"
      },
      "outputs": [],
      "source": [
        "!pip install tiktoken --quiet\n",
        "import tiktoken\n",
        "def count_tokens(input_string: str) -> int:\n",
        "    tokenizer = tiktoken.get_encoding(\"cl100k_base\")\n",
        "    tokens = tokenizer.encode(input_string)\n",
        "    return len(tokens)\n",
        "def calculate_cost(input_string: str, cost_per_million_tokens: float = 5) -> float:\n",
        "    num_tokens = count_tokens(input_string)\n",
        "    total_cost = (num_tokens / 1_000_000) * cost_per_million_tokens\n",
        "    return total_cost"
      ]
    },
    {
      "cell_type": "markdown",
      "id": "6daf9e47",
      "metadata": {
        "id": "6daf9e47"
      },
      "source": [
        "## 4. Scraper tous les sites et afficher un tableau comparatif"
      ]
    },
    {
      "cell_type": "code",
      "execution_count": 44,
      "id": "7bd65e67",
      "metadata": {
        "colab": {
          "base_uri": "https://localhost:8080/"
        },
        "id": "7bd65e67",
        "outputId": "2b766cdf-f631-4914-cb00-0bbeeeb38258"
      },
      "outputs": [
        {
          "output_type": "stream",
          "name": "stdout",
          "text": [
            "Content Table:\n",
            "+----------------------+------------------------+----------------------+\n",
            "|      Site Name       | Beautiful Soup content |   Jina AI content    |\n",
            "+----------------------+------------------------+----------------------+\n",
            "|  Articulate 360 by   |         <html>         |  Title: Pricing for  |\n",
            "|        Adobe         | <head><title>403 Forbi |   Articulate 360 |   |\n",
            "|                      |  dden</title></head>   |      Articulate      |\n",
            "|                      |         <body>         |                      |\n",
            "|                      | <center><h1>403 Forbid | URL Source: https:// |\n",
            "|                      |   den</h1></center>    | www.articulate.com/3 |\n",
            "|                      | <hr/><center>nginx</ce | 60/pricing/freelance |\n",
            "|                      |         nter>          |          rs          |\n",
            "|                      |        </body>         |                      |\n",
            "|                      |        </html>         |  Markdown Content:   |\n",
            "|                      |                        |     Pricing for      |\n",
            "|                      |                        |   Articulate 360 |   |\n",
            "|                      |                        |      Articulate      |\n",
            "|                      |                        |                      |\n",
            "|                      |                        |   ===============    |\n",
            "|                      |                        |                      |\n",
            "|                      |                        | [Skip to main conten |\n",
            "|                      |                        | t](https://www.artic |\n",
            "|                      |                        | ulate.com/360/pricin |\n",
            "|                      |                        | g/freelancers#conten |\n",
            "|                      |                        |          t)          |\n",
            "|                      |                        |                      |\n",
            "|                      |                        | [![Image 4: Articula |\n",
            "|                      |                        | te](https://www.arti |\n",
            "|                      |                        | culate.com/wp-conten |\n",
            "|                      |                        | t/uploads/2023/06/ar |\n",
            "|                      |                        | ticulate-logo.svg)]( |\n",
            "|                      |                        | https://www.articula |\n",
            "|                      |                        |       te.com/)       |\n",
            "|                      |                        |                      |\n",
            "|                      |                        | *   [Articulate 360  |\n",
            "|                      |                        | Platform](https://ww |\n",
            "|                      |                        | w.articulate.com/360 |\n",
            "|                      |                        | /pricing/freelancers |\n",
            "|                      |                        |          #)          |\n",
            "|                      |                        |     *   Our Platform |\n",
            "|                      |                        |              *       |\n",
            "|                      |                        | [Articulate 360 Over |\n",
            "|                      |                        | view](https://www.ar |\n",
            "|                      |                        |  ticulate.com/360/)  |\n",
            "|                      |                        |  The #1 e-learning   |\n",
            "|                      |                        |       platform       |\n",
            "|                      |                        |                      |\n",
            "|                      |                        |         *   Our      |\n",
            "|                      |                        |     Capabilities     |\n",
            "|                      |                        |         *   [Create] |\n",
            "|                      |                        | (https://www.articul |\n",
            "|                      |                        | ate.com/capabilities |\n",
            "|                      |                        |      /create/)       |\n",
            "|                      |                        |                      |\n",
            "+----------------------+------------------------+----------------------+\n",
            "|        7taps         |    <!DOCTYPE html>     |    Title: See our    |\n",
            "|                      |  <!-- Last Published:  |   pricing plans |    |\n",
            "|                      |    Mon Oct 20 2025     | 7taps microlearning  |\n",
            "|                      |   13:54:59 GMT+0000    |         app          |\n",
            "|                      | (Coordinated Universal |                      |\n",
            "|                      |  Time) --><html data-  | URL Source: https:// |\n",
            "|                      |          wf-           | www.7taps.com/pricin |\n",
            "|                      | domain=\"www.7taps.com\" |          g           |\n",
            "|                      | data-wf-page=\"6210eab9 |                      |\n",
            "|                      |   77ab3b4dedf4d5f1\"    | Published Time: Mon, |\n",
            "|                      | data-wf-site=\"6040dae8 | 20 Oct 2025 14:04:59 |\n",
            "|                      |   3112172e5cc9b16f\"    |         GMT          |\n",
            "|                      |       lang=\"en-        |                      |\n",
            "|                      | US\"><head><meta charse |  Markdown Content:   |\n",
            "|                      | t=\"utf-8\"/><title>See  |      7taps Free      |\n",
            "|                      |  our pricing plans |   |                      |\n",
            "|                      |  7taps microlearning   |  Create high-impact  |\n",
            "|                      |    app</title><meta    |    training that     |\n",
            "|                      | content=\"See detailed  | delivers 84% better  |\n",
            "|                      |   pricing plans for    |   skill retention.   |\n",
            "|                      |  7taps Microlearning   |                      |\n",
            "|                      |  app here. Enterprise  |   World's simplest   |\n",
            "|                      |    plan free trial     |    course creator    |\n",
            "|                      | available, big savings |                      |\n",
            "|                      |  in yearly plans. Get  |         info         |\n",
            "|                      | started today!\" name=\" |                      |\n",
            "|                      |  description\"/><meta   |   AI microlearning   |\n",
            "|                      |    content=\"See our    |       designer       |\n",
            "|                      | pricing plans | 7taps  |                      |\n",
            "|                      | microlearning app\" pro |         info         |\n",
            "|                      | perty=\"og:title\"/><met |                      |\n",
            "|                      |     a content=\"See     |   Instant content    |\n",
            "|                      | detailed pricing plans |      converter       |\n",
            "|                      |       for 7taps        |                      |\n",
            "|                      |   Microlearning app    |         info         |\n",
            "|                      | here. Enterprise plan  |                      |\n",
            "|                      |    free trial avail    |  Share courses with  |\n",
            "|                      |                        |  passwordless links  |\n",
            "|                      |                        |                      |\n",
            "|                      |                        |         info         |\n",
            "|                      |                        |                      |\n",
            "|                      |                        |   7taps Enterprise   |\n",
            "|                      |                        |                      |\n",
            "|                      |                        | Transform L&D into a |\n",
            "|                      |                        | strategic powerhouse |\n",
            "|                      |                        |  driving measurable  |\n",
            "|                      |                        |  business results.   |\n",
            "|                      |                        | Trusted by 4 of Top  |\n",
            "|                      |                        |    5 Fortune 500     |\n",
            "|                      |                        |      companies.      |\n",
            "|                      |                        |                      |\n",
            "|                      |                        |   World's simplest   |\n",
            "|                      |                        |    course creator    |\n",
            "|                      |                        |                      |\n",
            "|                      |                        |         info         |\n",
            "|                      |                        |                      |\n",
            "|                      |                        |   AI microlearning   |\n",
            "|                      |                        |       designer       |\n",
            "|                      |                        |                      |\n",
            "|                      |                        |         info         |\n",
            "|                      |                        |                      |\n",
            "|                      |                        |   Instant content    |\n",
            "|                      |                        |      converter       |\n",
            "|                      |                        |                      |\n",
            "|                      |                        |         info         |\n",
            "|                      |                        |                      |\n",
            "|                      |                        |  Advanced learning   |\n",
            "|                      |                        |     design tools     |\n",
            "|                      |                        |                      |\n",
            "|                      |                        |         info         |\n",
            "|                      |                        |                      |\n",
            "|                      |                        |  Advanced analytic   |\n",
            "+----------------------+------------------------+----------------------+\n",
            "|     Mindsmith AI     |    <!DOCTYPE html>     |    Title: Pricing    |\n",
            "|                      |                        |                      |\n",
            "|                      |   <!-- ✨ Built with   | URL Source: https:// |\n",
            "|                      | Framer • https://www.f | www.mindsmith.ai/pri |\n",
            "|                      |     ramer.com/ -->     |         cing         |\n",
            "|                      |    <html lang=\"en\">    |                      |\n",
            "|                      |         <head>         | Published Time: Fri, |\n",
            "|                      |         <meta          | 17 Oct 2025 02:02:06 |\n",
            "|                      |   charset=\"utf-8\"/>    |         GMT          |\n",
            "|                      | <script>try{if(localSt |                      |\n",
            "|                      | orage.get(\"__framer_fo |  Markdown Content:   |\n",
            "|                      | rce_showing_editorbar_ |       Pricing        |\n",
            "|                      | since\")){const n=docum |                      |\n",
            "|                      | ent.createElement(\"lin |   ===============    |\n",
            "|                      | k\");n.rel = \"modulepre |                      |\n",
            "|                      | load\";n.href=\"https:// | [Featured in Markus  |\n",
            "|                      | framer.com/edit/init.m | Bernhardt’s 2025 L&D |\n",
            "|                      | js\";document.head.appe | Report (Case 2)](htt |\n",
            "|                      | ndChild(n)}}catch(e){} | ps://www.endeavorint |\n",
            "|                      |       </script>        | el.com/endeavor-repo |\n",
            "|                      |     <!-- Start of      | rt?utm_source=mindsm |\n",
            "|                      |     headStart -->      | ith_site&utm_medium= |\n",
            "|                      | <!-- End of headStart  | referral&utm_campaig |\n",
            "|                      |          -->           |  n=endeavor_report)  |\n",
            "|                      |         <meta          |                      |\n",
            "|                      | content=\"width=device- | [![Image 1](https:// |\n",
            "|                      |         width\"         | framerusercontent.co |\n",
            "|                      |   name=\"viewport\"/>    | m/images/NkEnv4jOiY2 |\n",
            "|                      | <meta content=\"Framer  | IelZ5PWfEKWF9mHI.svg |\n",
            "|                      |        98b71dc\"        | )](https://www.minds |\n",
            "|                      |   name=\"generator\"/>   |      mith.ai/)       |\n",
            "|                      | <title>Pricing</title> |                      |\n",
            "|                      | <meta content=\"Pricing | [Pricing](https://ww |\n",
            "|                      | and plans for teams of | w.mindsmith.ai/prici |\n",
            "|                      |    all sizes, from     |         ng)          |\n",
            "|                      | individual creators to |                      |\n",
            "|                      | eLearning teams. Start | [About](https://www. |\n",
            "|                      | for free or talk to a  | mindsmith.ai/about)  |\n",
            "|                      |  real person to learn  |                      |\n",
            "|                      |  more!\" name=\"descri   | [Book a Demo](https: |\n",
            "|                      |                        | //meetings.hubspot.c |\n",
            "|                      |                        | om/ethanwebb/teams-  |\n",
            "|                      |                        | demo-clone?uuid=c86b |\n",
            "|                      |                        | 0701-7c35-489a-95b6- |\n",
            "|                      |                        |    f5cafd1e1c43)     |\n",
            "|                      |                        |                      |\n",
            "|                      |                        | [Partner](https://ww |\n",
            "|                      |                        | w.mindsmith.ai/partn |\n",
            "|                      |                        |         ers)         |\n",
            "|                      |                        |                      |\n",
            "|                      |                        |      [Blog](ht       |\n",
            "+----------------------+------------------------+----------------------+\n",
            "| Cards-microlearning  |    <!DOCTYPE html>     |        Title:        |\n",
            "|                      |  <!-- Last Published:  | microlearning.com |  |\n",
            "|                      |    Thu Oct 16 2025     |  504: Gateway time-  |\n",
            "|                      |   07:31:00 GMT+0000    |         out          |\n",
            "|                      | (Coordinated Universal |                      |\n",
            "|                      |  Time) --><html data-  |     URL Source:      |\n",
            "|                      | wf-domain=\"www.cards-  | https://www.cards-mi |\n",
            "|                      |   microlearning.com\"   | crolearning.com/en/t |\n",
            "|                      | data-wf-page=\"67766b5c |        arifs         |\n",
            "|                      |   3ee9c1f1faa2d8b7\"    |                      |\n",
            "|                      | data-wf-site=\"67766b5c | Warning: Target URL  |\n",
            "|                      |   3ee9c1f1faa2d715\"    | returned error 504:  |\n",
            "|                      |       lang=\"en-        |   Gateway Timeout    |\n",
            "|                      | US\"><head><meta charse |                      |\n",
            "|                      |        t=\"utf-         |  Markdown Content:   |\n",
            "|                      |   8\"/><title>Tarifs    |   Gateway time-out   |\n",
            "|                      |  Cards micro-learning  |    Error code 504    |\n",
            "|                      | | IA intégrée + Moteur | -------------------- |\n",
            "|                      | d'ancrage</title><link |     -----------      |\n",
            "|                      | href=\"https://www.card |                      |\n",
            "|                      | s-microlearning.com/ta | Visit [cloudflare.co |\n",
            "|                      |         rifs\"          | m](https://www.cloud |\n",
            "|                      |  hreflang=\"x-default\"  | flare.com/5xx-error- |\n",
            "|                      | rel=\"alternate\"/><link | landing?utm_source=e |\n",
            "|                      | href=\"https://www.card | rrorcode_504&utm_cam |\n",
            "|                      | s-microlearning.com/ta |   paign=www.cards-   |\n",
            "|                      | rifs\" hreflang=\"fr-FR\" |  microlearning.com)  |\n",
            "|                      | rel=\"alternate\"/><link |       for more       |\n",
            "|                      | href=\"https://www.card |     information.     |\n",
            "|                      | s-microlearning.com/en |                      |\n",
            "|                      | /tarifs\" hreflang=\"en- | 2025-10-20 16:05:03  |\n",
            "|                      |          US\"           |         UTC          |\n",
            "|                      | rel=\"alternate\"/><meta |                      |\n",
            "|                      |  content=\"Découvrez 3  |         You          |\n",
            "|                      |  offres pour profiter  |                      |\n",
            "|                      |    de Cards micro-     |     ### Browser      |\n",
            "|                      |        learning        |                      |\n",
            "|                      |                        |       Working        |\n",
            "|                      |                        |                      |\n",
            "|                      |                        |       Ashburn        |\n",
            "|                      |                        |                      |\n",
            "|                      |                        | ### [Cloudflare](htt |\n",
            "|                      |                        | ps://www.cloudflare. |\n",
            "|                      |                        | com/5xx-error-landin |\n",
            "|                      |                        | g?utm_source=errorco |\n",
            "|                      |                        | de_504&utm_campaign= |\n",
            "|                      |                        |      www.cards-      |\n",
            "|                      |                        |  microlearning.com)  |\n",
            "|                      |                        |                      |\n",
            "|                      |                        |       Working        |\n",
            "|                      |                        |                      |\n",
            "|                      |                        |      www.cards-      |\n",
            "|                      |                        |  microlearning.com   |\n",
            "|                      |                        |                      |\n",
            "|                      |                        |       ### Host       |\n",
            "|                      |                        |                      |\n",
            "|                      |                        |        Error         |\n",
            "|                      |                        |                      |\n",
            "|                      |                        |    What happened?    |\n",
            "|                      |                        |    --------------    |\n",
            "|                      |                        |                      |\n",
            "|                      |                        |   The web server r   |\n",
            "+----------------------+------------------------+----------------------+\n",
            "Cost Table:\n",
            "+----------------------+---------------------+--------------+\n",
            "|      Site Name       | Beautiful Soup cost | Jina AI cost |\n",
            "+----------------------+---------------------+--------------+\n",
            "|  Articulate 360 by   |      $0.000210      |  $0.046450   |\n",
            "|        Adobe         |                     |              |\n",
            "+----------------------+---------------------+--------------+\n",
            "|        7taps         |      $0.110380      |  $0.008870   |\n",
            "+----------------------+---------------------+--------------+\n",
            "|     Mindsmith AI     |      $2.372025      |  $0.021020   |\n",
            "+----------------------+---------------------+--------------+\n",
            "| Cards-microlearning  |      $0.174905      |  $0.001345   |\n",
            "+----------------------+---------------------+--------------+\n"
          ]
        }
      ],
      "source": [
        "list_of_scraper_functions = [\n",
        "    {\"name\": \"Beautiful Soup\", \"function\": beautiful_soup_scrape_url},\n",
        "    # {\"name\": \"Firecrawl\", \"function\": scrape_firecrawl},\n",
        "    {\"name\": \"Jina AI\", \"function\": scrape_jina_ai}\n",
        "]\n",
        "\n",
        "def view_scraped_content(scrape_url_functions, sites_list, characters_to_display=500, table_max_width=50):\n",
        "    content_table_headers = [\"Site Name\"] + [f'{func[\"name\"]} content' for func in scrape_url_functions]\n",
        "    cost_table_headers = [\"Site Name\"] + [f'{func[\"name\"]} cost' for func in scrape_url_functions]\n",
        "    content_table = PrettyTable()\n",
        "    content_table.field_names = content_table_headers\n",
        "    cost_table = PrettyTable()\n",
        "    cost_table.field_names = cost_table_headers\n",
        "    scraped_data = []\n",
        "    for site in sites_list:\n",
        "        content_row = [site['name']]\n",
        "        cost_row = [site['name']]\n",
        "        site_data = {\"provider\": site['name'], \"sites\": []}\n",
        "        for scrape_function in scrape_url_functions:\n",
        "            function_name = scrape_function['name']\n",
        "            try:\n",
        "                content = scrape_function['function'](site['url'])\n",
        "                content_snippet = content[:characters_to_display]\n",
        "                content_row.append(content_snippet)\n",
        "                cost = calculate_cost(content)\n",
        "                cost_row.append(f'${cost:.6f}')\n",
        "                site_data[\"sites\"].append({\"name\": function_name, \"content\": content})\n",
        "            except Exception as e:\n",
        "                error_message = f'Error: {str(e)}'\n",
        "                content_row.append(error_message)\n",
        "                cost_row.append('Error')\n",
        "                site_data[\"sites\"].append({\"name\": function_name, \"content\": error_message})\n",
        "        content_table.add_row(content_row)\n",
        "        cost_table.add_row(cost_row)\n",
        "        scraped_data.append(site_data)\n",
        "    content_table.max_width = table_max_width\n",
        "    content_table.hrules = ALL\n",
        "    cost_table.max_width = table_max_width\n",
        "    cost_table.hrules = ALL\n",
        "    print(\"Content Table:\")\n",
        "    print(content_table)\n",
        "    print(\"Cost Table:\")\n",
        "    print(cost_table)\n",
        "    return scraped_data\n",
        "\n",
        "all_content = view_scraped_content(list_of_scraper_functions, competitor_sites, 700, 20)"
      ]
    },
    {
      "cell_type": "markdown",
      "id": "387b3632",
      "metadata": {
        "id": "387b3632"
      },
      "source": [
        "## 5. Extraction des informations clés avec Gemini\n",
        "Nous allons utiliser Gemini pour extraire les informations stratégiques (ex: tarifs) à partir du contenu scrapé."
      ]
    },
    {
      "cell_type": "code",
      "execution_count": 45,
      "id": "f7cc0ebf",
      "metadata": {
        "colab": {
          "base_uri": "https://localhost:8080/"
        },
        "id": "f7cc0ebf",
        "outputId": "740e1816-e9fb-4bed-9c0c-ce3993f87f0e"
      },
      "outputs": [
        {
          "name": "stdout",
          "output_type": "stream",
          "text": [
            "Entrez votre clé API Gemini : ··········\n"
          ]
        }
      ],
      "source": [
        "# Utilisation de l'agent Gemini officiel (Google Generative AI)\n",
        "!pip install google-generativeai --quiet\n",
        "import google.generativeai as genai\n",
        "import getpass\n",
        "GEMINI_API_KEY = getpass.getpass('Entrez votre clé API Gemini : ')\n",
        "genai.configure(api_key=GEMINI_API_KEY)\n",
        "\n",
        "# Créer un agent Gemini\n",
        "model = genai.GenerativeModel('gemini-2.0-flash')  # ou 'gemini-1.5-pro' selon votre accès\n",
        "\n",
        "def extract_with_gemini_agent(user_input: str):\n",
        "    prompt = (\n",
        "        \"Analyse le contenu suivant et extrait les informations de tarification sous forme de JSON : \"\n",
        "        \"{cheapest: {name: str, price: float}, middle: {name: str, price: float}, most_expensive: {name: str, price: float}}.\\n\"\n",
        "        \"Contenu :\\n\" + user_input\n",
        "    )\n",
        "    response = model.generate_content(prompt)\n",
        "    return response.text"
      ]
    },
    {
      "cell_type": "markdown",
      "id": "5fcee0c5",
      "metadata": {
        "id": "5fcee0c5"
      },
      "source": [
        "## 6. Affichage des résultats extraits par Gemini"
      ]
    },
    {
      "cell_type": "code",
      "execution_count": 46,
      "id": "d47f6952",
      "metadata": {
        "id": "d47f6952"
      },
      "outputs": [],
      "source": [
        "from typing import List, Dict\n",
        "from prettytable import PrettyTable, ALL\n",
        "from tqdm import tqdm\n",
        "\n",
        "def display_gemini_extracted_content(results: List[Dict[str, any]], num_objects: int):\n",
        "    table = PrettyTable()\n",
        "    table.field_names = [\"Site\", \"Provider Name\", \"Extracted Content\"]\n",
        "\n",
        "    # Ensure num_objects does not exceed the length of the results list\n",
        "    num_objects = min(num_objects, len(results))\n",
        "\n",
        "    # Process the specified number of items from the results list with a progress bar\n",
        "    for result in tqdm(results[:num_objects], desc=\"Processing results\"):\n",
        "        provider_name = result[\"provider\"]\n",
        "\n",
        "        for site in result[\"sites\"]:\n",
        "            function_name = site[\"name\"]\n",
        "            content = site[\"content\"]\n",
        "\n",
        "            # Print the content being passed to the Gemini agent for inspection\n",
        "            print(f\"Content being passed to Gemini agent for {provider_name} ({function_name}):\\n{content[:500]}...\") # Print first 500 characters\n",
        "\n",
        "            # Progress bar for each function\n",
        "            for _ in tqdm(range(1), desc=f\"Extracting content with {provider_name} for {function_name}\"):\n",
        "                  extracted_content = extract_with_gemini_agent(content)\n",
        "                  table.add_row([provider_name, function_name, extracted_content])\n",
        "\n",
        "    table.max_width = 50  # Set the maximum width for better display\n",
        "    table.hrules = ALL\n",
        "\n",
        "    print(\"Extracted Content Table:\")\n",
        "    print(table)"
      ]
    },
    {
      "cell_type": "code",
      "execution_count": 47,
      "id": "7e565b72",
      "metadata": {
        "colab": {
          "base_uri": "https://localhost:8080/",
          "height": 1000
        },
        "id": "7e565b72",
        "outputId": "2b3da929-6c64-4e14-e257-ec11cd8902cc"
      },
      "outputs": [
        {
          "output_type": "stream",
          "name": "stderr",
          "text": [
            "\rProcessing results:   0%|          | 0/4 [00:00<?, ?it/s]"
          ]
        },
        {
          "output_type": "stream",
          "name": "stdout",
          "text": [
            "Content being passed to Gemini agent for Articulate 360 by Adobe (Beautiful Soup):\n",
            "<html>\n",
            "<head><title>403 Forbidden</title></head>\n",
            "<body>\n",
            "<center><h1>403 Forbidden</h1></center>\n",
            "<hr/><center>nginx</center>\n",
            "</body>\n",
            "</html>\n",
            "...\n"
          ]
        },
        {
          "output_type": "stream",
          "name": "stderr",
          "text": [
            "\n",
            "Extracting content with Articulate 360 by Adobe for Beautiful Soup:   0%|          | 0/1 [00:00<?, ?it/s]\u001b[A\n",
            "Extracting content with Articulate 360 by Adobe for Beautiful Soup: 100%|██████████| 1/1 [00:04<00:00,  4.62s/it]\n"
          ]
        },
        {
          "output_type": "stream",
          "name": "stdout",
          "text": [
            "Content being passed to Gemini agent for Articulate 360 by Adobe (Jina AI):\n",
            "Title: Pricing for Articulate 360 | Articulate\n",
            "\n",
            "URL Source: https://www.articulate.com/360/pricing/freelancers\n",
            "\n",
            "Markdown Content:\n",
            "Pricing for Articulate 360 | Articulate\n",
            "\n",
            "===============\n",
            "\n",
            "[Skip to main content](https://www.articulate.com/360/pricing/freelancers#content)\n",
            "\n",
            "[![Image 4: Articulate](https://www.articulate.com/wp-content/uploads/2023/06/articulate-logo.svg)](https://www.articulate.com/)\n",
            "\n",
            "*   [Articulate 360 Platform](https://www.articulate.com/360/pricing/freelancers#)\n",
            "    *   Our Pla...\n"
          ]
        },
        {
          "output_type": "stream",
          "name": "stderr",
          "text": [
            "\n",
            "Extracting content with Articulate 360 by Adobe for Jina AI:   0%|          | 0/1 [00:00<?, ?it/s]\u001b[A\n",
            "Extracting content with Articulate 360 by Adobe for Jina AI: 100%|██████████| 1/1 [00:02<00:00,  2.37s/it]\n",
            "Processing results:  25%|██▌       | 1/4 [00:07<00:21,  7.01s/it]"
          ]
        },
        {
          "output_type": "stream",
          "name": "stdout",
          "text": [
            "Content being passed to Gemini agent for 7taps (Beautiful Soup):\n",
            "<!DOCTYPE html>\n",
            "<!-- Last Published: Mon Oct 20 2025 13:54:59 GMT+0000 (Coordinated Universal Time) --><html data-wf-domain=\"www.7taps.com\" data-wf-page=\"6210eab977ab3b4dedf4d5f1\" data-wf-site=\"6040dae83112172e5cc9b16f\" lang=\"en-US\"><head><meta charset=\"utf-8\"/><title>See our pricing plans | 7taps microlearning app</title><meta content=\"See detailed pricing plans for 7taps Microlearning app here. Enterprise plan free trial available, big savings in yearly plans. Get started today!\" name=\"descrip...\n"
          ]
        },
        {
          "output_type": "stream",
          "name": "stderr",
          "text": [
            "\n",
            "Extracting content with 7taps for Beautiful Soup:   0%|          | 0/1 [00:00<?, ?it/s]\u001b[A\n",
            "Extracting content with 7taps for Beautiful Soup: 100%|██████████| 1/1 [00:01<00:00,  1.69s/it]\n"
          ]
        },
        {
          "output_type": "stream",
          "name": "stdout",
          "text": [
            "Content being passed to Gemini agent for 7taps (Jina AI):\n",
            "Title: See our pricing plans | 7taps microlearning app\n",
            "\n",
            "URL Source: https://www.7taps.com/pricing\n",
            "\n",
            "Published Time: Mon, 20 Oct 2025 14:04:59 GMT\n",
            "\n",
            "Markdown Content:\n",
            "7taps Free\n",
            "\n",
            "Create high-impact training that delivers 84% better skill retention.\n",
            "\n",
            "World's simplest course creator\n",
            "\n",
            "info\n",
            "\n",
            "AI microlearning designer\n",
            "\n",
            "info\n",
            "\n",
            "Instant content converter\n",
            "\n",
            "info\n",
            "\n",
            "Share courses with passwordless links\n",
            "\n",
            "info\n",
            "\n",
            "7taps Enterprise\n",
            "\n",
            "Transform L&D into a strategic powerhouse driving measurable business results. Truste...\n"
          ]
        },
        {
          "output_type": "stream",
          "name": "stderr",
          "text": [
            "\n",
            "Extracting content with 7taps for Jina AI:   0%|          | 0/1 [00:00<?, ?it/s]\u001b[A\n",
            "Extracting content with 7taps for Jina AI: 100%|██████████| 1/1 [00:01<00:00,  1.91s/it]\n",
            "Processing results:  50%|█████     | 2/4 [00:10<00:10,  5.01s/it]"
          ]
        },
        {
          "output_type": "stream",
          "name": "stdout",
          "text": [
            "Content being passed to Gemini agent for Mindsmith AI (Beautiful Soup):\n",
            "<!DOCTYPE html>\n",
            "\n",
            "<!-- ✨ Built with Framer • https://www.framer.com/ -->\n",
            "<html lang=\"en\">\n",
            "<head>\n",
            "<meta charset=\"utf-8\"/>\n",
            "<script>try{if(localStorage.get(\"__framer_force_showing_editorbar_since\")){const n=document.createElement(\"link\");n.rel = \"modulepreload\";n.href=\"https://framer.com/edit/init.mjs\";document.head.appendChild(n)}}catch(e){}</script>\n",
            "<!-- Start of headStart -->\n",
            "<!-- End of headStart -->\n",
            "<meta content=\"width=device-width\" name=\"viewport\"/>\n",
            "<meta content=\"Framer 98b71dc\" name=\"genera...\n"
          ]
        },
        {
          "output_type": "stream",
          "name": "stderr",
          "text": [
            "\n",
            "Extracting content with Mindsmith AI for Beautiful Soup:   0%|          | 0/1 [00:00<?, ?it/s]\u001b[A\n",
            "Extracting content with Mindsmith AI for Beautiful Soup: 100%|██████████| 1/1 [00:17<00:00, 17.39s/it]\n"
          ]
        },
        {
          "output_type": "stream",
          "name": "stdout",
          "text": [
            "Content being passed to Gemini agent for Mindsmith AI (Jina AI):\n",
            "Title: Pricing\n",
            "\n",
            "URL Source: https://www.mindsmith.ai/pricing\n",
            "\n",
            "Published Time: Fri, 17 Oct 2025 02:02:06 GMT\n",
            "\n",
            "Markdown Content:\n",
            "Pricing\n",
            "\n",
            "===============\n",
            "\n",
            "[Featured in Markus Bernhardt’s 2025 L&D Report (Case 2)](https://www.endeavorintel.com/endeavor-report?utm_source=mindsmith_site&utm_medium=referral&utm_campaign=endeavor_report)\n",
            "\n",
            "[![Image 1](https://framerusercontent.com/images/NkEnv4jOiY2IelZ5PWfEKWF9mHI.svg)](https://www.mindsmith.ai/)\n",
            "\n",
            "[Pricing](https://www.mindsmith.ai/pricing)\n",
            "\n",
            "[About](ht...\n"
          ]
        },
        {
          "output_type": "stream",
          "name": "stderr",
          "text": [
            "\n",
            "Extracting content with Mindsmith AI for Jina AI:   0%|          | 0/1 [00:00<?, ?it/s]\u001b[A\n",
            "Extracting content with Mindsmith AI for Jina AI: 100%|██████████| 1/1 [00:01<00:00,  1.48s/it]\n",
            "Processing results:  75%|███████▌  | 3/4 [00:29<00:11, 11.34s/it]"
          ]
        },
        {
          "output_type": "stream",
          "name": "stdout",
          "text": [
            "Content being passed to Gemini agent for Cards-microlearning (Beautiful Soup):\n",
            "<!DOCTYPE html>\n",
            "<!-- Last Published: Thu Oct 16 2025 07:31:00 GMT+0000 (Coordinated Universal Time) --><html data-wf-domain=\"www.cards-microlearning.com\" data-wf-page=\"67766b5c3ee9c1f1faa2d8b7\" data-wf-site=\"67766b5c3ee9c1f1faa2d715\" lang=\"en-US\"><head><meta charset=\"utf-8\"/><title>Tarifs Cards micro-learning | IA intégrée + Moteur d'ancrage</title><link href=\"https://www.cards-microlearning.com/tarifs\" hreflang=\"x-default\" rel=\"alternate\"/><link href=\"https://www.cards-microlearning.com/tarifs\"...\n"
          ]
        },
        {
          "output_type": "stream",
          "name": "stderr",
          "text": [
            "\n",
            "Extracting content with Cards-microlearning for Beautiful Soup:   0%|          | 0/1 [00:00<?, ?it/s]\u001b[A\n",
            "Extracting content with Cards-microlearning for Beautiful Soup: 100%|██████████| 1/1 [01:43<00:00, 103.91s/it]\n"
          ]
        },
        {
          "output_type": "stream",
          "name": "stdout",
          "text": [
            "Content being passed to Gemini agent for Cards-microlearning (Jina AI):\n",
            "Title: microlearning.com | 504: Gateway time-out\n",
            "\n",
            "URL Source: https://www.cards-microlearning.com/en/tarifs\n",
            "\n",
            "Warning: Target URL returned error 504: Gateway Timeout\n",
            "\n",
            "Markdown Content:\n",
            "Gateway time-out Error code 504\n",
            "-------------------------------\n",
            "\n",
            "Visit [cloudflare.com](https://www.cloudflare.com/5xx-error-landing?utm_source=errorcode_504&utm_campaign=www.cards-microlearning.com) for more information.\n",
            "\n",
            "2025-10-20 16:05:03 UTC\n",
            "\n",
            "You\n",
            "\n",
            "### Browser\n",
            "\n",
            "Working\n",
            "\n",
            "Ashburn\n",
            "\n",
            "### [Cloudflare](https://www.clo...\n"
          ]
        },
        {
          "output_type": "stream",
          "name": "stderr",
          "text": [
            "\n",
            "Extracting content with Cards-microlearning for Jina AI:   0%|          | 0/1 [00:00<?, ?it/s]\u001b[A\n",
            "Extracting content with Cards-microlearning for Jina AI: 100%|██████████| 1/1 [00:01<00:00,  1.78s/it]\n",
            "Processing results: 100%|██████████| 4/4 [02:15<00:00, 33.80s/it]"
          ]
        },
        {
          "output_type": "stream",
          "name": "stdout",
          "text": [
            "Extracted Content Table:\n",
            "+-------------------------+----------------+----------------------------------------------------+\n",
            "|           Site          | Provider Name  |                 Extracted Content                  |\n",
            "+-------------------------+----------------+----------------------------------------------------+\n",
            "| Articulate 360 by Adobe | Beautiful Soup |  Il n'y a aucune information de tarification dans  |\n",
            "|                         |                |   le contenu fourni.  Le contenu HTML montre une   |\n",
            "|                         |                |  erreur 403 Forbidden, indiquant que l'accès à la  |\n",
            "|                         |                |  ressource est interdit.  Je ne peux pas extraire  |\n",
            "|                         |                |              d'informations de prix.               |\n",
            "|                         |                |                                                    |\n",
            "|                         |                | Par conséquent, je ne peux pas créer un JSON avec  |\n",
            "|                         |                |        les champs `cheapest`, `middle`, et         |\n",
            "|                         |                |  `most_expensive` parce que je n'ai aucune donnée  |\n",
            "|                         |                | de prix. Je vais retourner une structure JSON avec |\n",
            "|                         |                |   des valeurs `null` pour indiquer l'absence de    |\n",
            "|                         |                |                      données.                      |\n",
            "|                         |                |                                                    |\n",
            "|                         |                |                      ```json                       |\n",
            "|                         |                |                         {                          |\n",
            "|                         |                |                    \"cheapest\": {                   |\n",
            "|                         |                |                     \"name\": null,                  |\n",
            "|                         |                |                     \"price\": null                  |\n",
            "|                         |                |                          },                        |\n",
            "|                         |                |                     \"middle\": {                    |\n",
            "|                         |                |                     \"name\": null,                  |\n",
            "|                         |                |                     \"price\": null                  |\n",
            "|                         |                |                          },                        |\n",
            "|                         |                |                 \"most_expensive\": {                |\n",
            "|                         |                |                     \"name\": null,                  |\n",
            "|                         |                |                     \"price\": null                  |\n",
            "|                         |                |                          }                         |\n",
            "|                         |                |                         }                          |\n",
            "|                         |                |                        ```                         |\n",
            "|                         |                |                                                    |\n",
            "+-------------------------+----------------+----------------------------------------------------+\n",
            "| Articulate 360 by Adobe |    Jina AI     |                      ```json                       |\n",
            "|                         |                |                         {                          |\n",
            "|                         |                |                    \"cheapest\": {                   |\n",
            "|                         |                |     \"name\": \"Articulate 360 Standard (Personal)\",  |\n",
            "|                         |                |                    \"price\": 1199.0                 |\n",
            "|                         |                |                          },                        |\n",
            "|                         |                |                     \"middle\": {                    |\n",
            "|                         |                |       \"name\": \"Articulate 360 Standard (Teams)\",   |\n",
            "|                         |                |                    \"price\": 1499.0                 |\n",
            "|                         |                |                          },                        |\n",
            "|                         |                |                 \"most_expensive\": {                |\n",
            "|                         |                |          \"name\": \"Articulate 360 AI (Teams)\",      |\n",
            "|                         |                |                    \"price\": 1749.0                 |\n",
            "|                         |                |                          }                         |\n",
            "|                         |                |                         }                          |\n",
            "|                         |                |                        ```                         |\n",
            "+-------------------------+----------------+----------------------------------------------------+\n",
            "|          7taps          | Beautiful Soup |                      ```json                       |\n",
            "|                         |                |                         {                          |\n",
            "|                         |                |                    \"cheapest\": {                   |\n",
            "|                         |                |                 \"name\": \"7taps Free\",              |\n",
            "|                         |                |                      \"price\": 0.0                  |\n",
            "|                         |                |                          },                        |\n",
            "|                         |                |                     \"middle\": {                    |\n",
            "|                         |                |                  \"name\": \"7taps Pro\",              |\n",
            "|                         |                |                     \"price\": 99.0                  |\n",
            "|                         |                |                          },                        |\n",
            "|                         |                |                 \"most_expensive\": {                |\n",
            "|                         |                |              \"name\": \"7taps Enterprise\",           |\n",
            "|                         |                |                     \"price\": null                  |\n",
            "|                         |                |                          }                         |\n",
            "|                         |                |                         }                          |\n",
            "|                         |                |                        ```                         |\n",
            "+-------------------------+----------------+----------------------------------------------------+\n",
            "|          7taps          |    Jina AI     |                      ```json                       |\n",
            "|                         |                |                         {                          |\n",
            "|                         |                |                    \"cheapest\": {                   |\n",
            "|                         |                |                 \"name\": \"7taps Free\",              |\n",
            "|                         |                |                      \"price\": 0.0                  |\n",
            "|                         |                |                          },                        |\n",
            "|                         |                |                     \"middle\": {                    |\n",
            "|                         |                |                    \"name\": \"Email\",                |\n",
            "|                         |                |                    \"price\": 10000.0                |\n",
            "|                         |                |                          },                        |\n",
            "|                         |                |                 \"most_expensive\": {                |\n",
            "|                         |                |               \"name\": \"Text-to-speech\",            |\n",
            "|                         |                |                     \"price\": 400.0                 |\n",
            "|                         |                |                          }                         |\n",
            "|                         |                |                         }                          |\n",
            "|                         |                |                        ```                         |\n",
            "+-------------------------+----------------+----------------------------------------------------+\n",
            "|       Mindsmith AI      | Beautiful Soup |                      ```json                       |\n",
            "|                         |                |                         {                          |\n",
            "|                         |                |                    \"cheapest\": {                   |\n",
            "|                         |                |                    \"name\": \"Free\",                 |\n",
            "|                         |                |                      \"price\": 0.0                  |\n",
            "|                         |                |                          },                        |\n",
            "|                         |                |                     \"middle\": {                    |\n",
            "|                         |                |                \"name\": \"Professional\",             |\n",
            "|                         |                |                     \"price\": 39.0                  |\n",
            "|                         |                |                          },                        |\n",
            "|                         |                |                 \"most_expensive\": {                |\n",
            "|                         |                |                  \"name\": \"Business\",               |\n",
            "|                         |                |                     \"price\": 75.0                  |\n",
            "|                         |                |                          }                         |\n",
            "|                         |                |                         }                          |\n",
            "|                         |                |                        ```                         |\n",
            "+-------------------------+----------------+----------------------------------------------------+\n",
            "|       Mindsmith AI      |    Jina AI     |                      ```json                       |\n",
            "|                         |                |                         {                          |\n",
            "|                         |                |                    \"cheapest\": {                   |\n",
            "|                         |                |                    \"name\": \"Free\",                 |\n",
            "|                         |                |                      \"price\": 0.0                  |\n",
            "|                         |                |                          },                        |\n",
            "|                         |                |                     \"middle\": {                    |\n",
            "|                         |                |                \"name\": \"Professional\",             |\n",
            "|                         |                |                     \"price\": 39.0                  |\n",
            "|                         |                |                          },                        |\n",
            "|                         |                |                 \"most_expensive\": {                |\n",
            "|                         |                |                  \"name\": \"Business\",               |\n",
            "|                         |                |                     \"price\": 75.0                  |\n",
            "|                         |                |                          }                         |\n",
            "|                         |                |                         }                          |\n",
            "|                         |                |                        ```                         |\n",
            "+-------------------------+----------------+----------------------------------------------------+\n",
            "|   Cards-microlearning   | Beautiful Soup |                      ```json                       |\n",
            "|                         |                |                         {                          |\n",
            "|                         |                |                    \"cheapest\": {                   |\n",
            "|                         |                |         \"name\": \"Platform Starter (Monthly)\",      |\n",
            "|                         |                |                     \"price\": 99.0                  |\n",
            "|                         |                |                          },                        |\n",
            "|                         |                |                     \"middle\": {                    |\n",
            "|                         |                |        \"name\": \"Author tool Business license\",     |\n",
            "|                         |                |                    \"price\": 1990.0                 |\n",
            "|                         |                |                          },                        |\n",
            "|                         |                |                 \"most_expensive\": {                |\n",
            "|                         |                |        \"name\": \"Platform Enterprise (Yearly)\",     |\n",
            "|                         |                |                  \"price\": 11500000.0               |\n",
            "|                         |                |                          }                         |\n",
            "|                         |                |                         }                          |\n",
            "|                         |                |                        ```                         |\n",
            "+-------------------------+----------------+----------------------------------------------------+\n",
            "|   Cards-microlearning   |    Jina AI     |   The provided content indicates a \"504 Gateway    |\n",
            "|                         |                |    Timeout\" error, meaning the server couldn't     |\n",
            "|                         |                | retrieve pricing information. Therefore, I cannot  |\n",
            "|                         |                | extract the requested pricing data and will return |\n",
            "|                         |                | an empty JSON response indicating that no pricing  |\n",
            "|                         |                |                     was found.                     |\n",
            "|                         |                |                                                    |\n",
            "|                         |                |                      ```json                       |\n",
            "|                         |                |                         {                          |\n",
            "|                         |                |                    \"cheapest\": {                   |\n",
            "|                         |                |                     \"name\": \"N/A\",                 |\n",
            "|                         |                |                     \"price\": null                  |\n",
            "|                         |                |                          },                        |\n",
            "|                         |                |                     \"middle\": {                    |\n",
            "|                         |                |                     \"name\": \"N/A\",                 |\n",
            "|                         |                |                     \"price\": null                  |\n",
            "|                         |                |                          },                        |\n",
            "|                         |                |                 \"most_expensive\": {                |\n",
            "|                         |                |                     \"name\": \"N/A\",                 |\n",
            "|                         |                |                     \"price\": null                  |\n",
            "|                         |                |                          }                         |\n",
            "|                         |                |                         }                          |\n",
            "|                         |                |                        ```                         |\n",
            "|                         |                |                                                    |\n",
            "+-------------------------+----------------+----------------------------------------------------+\n"
          ]
        },
        {
          "output_type": "stream",
          "name": "stderr",
          "text": [
            "\n"
          ]
        }
      ],
      "source": [
        "display_gemini_extracted_content(all_content, num_objects=9)"
      ]
    },
    {
      "cell_type": "markdown",
      "id": "b4ce5783",
      "metadata": {
        "id": "b4ce5783"
      },
      "source": [
        "---\n",
        "**Remarque :** Adaptez la fonction `extract_with_gemini` selon la documentation officielle de l'API Gemini.\n",
        "\n",
        "Ce notebook est prêt à être utilisé pour une analyse concurrentielle automatisée avec Gemini."
      ]
    },
    {
      "cell_type": "markdown",
      "id": "c3088578",
      "metadata": {
        "id": "c3088578"
      },
      "source": []
    }
  ],
  "metadata": {
    "kernelspec": {
      "display_name": "Python 3",
      "language": "python",
      "name": "python3"
    },
    "language_info": {
      "codemirror_mode": {
        "name": "ipython",
        "version": 3
      },
      "file_extension": ".py",
      "mimetype": "text/x-python",
      "name": "python",
      "nbconvert_exporter": "python",
      "pygments_lexer": "ipython3",
      "version": "3.10.12"
    },
    "colab": {
      "provenance": [],
      "include_colab_link": true
    }
  },
  "nbformat": 4,
  "nbformat_minor": 5
}